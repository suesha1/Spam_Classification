{
  "nbformat": 4,
  "nbformat_minor": 0,
  "metadata": {
    "colab": {
      "name": "E-mail Spam Classification.ipynb",
      "provenance": [],
      "collapsed_sections": []
    },
    "kernelspec": {
      "name": "python3",
      "display_name": "Python 3"
    },
    "accelerator": "GPU"
  },
  "cells": [
    {
      "cell_type": "code",
      "metadata": {
        "id": "JHqGz03IqRPN",
        "colab_type": "code",
        "colab": {}
      },
      "source": [
        "from google.colab import drive\n",
        "drive.mount('/content/drive')\n",
        "!ls \"/content/drive/My Drive\"\n",
        "path=\"/content/drive/My Drive/\""
      ],
      "execution_count": null,
      "outputs": []
    },
    {
      "cell_type": "code",
      "metadata": {
        "id": "2l-7xX1JxwyQ",
        "colab_type": "code",
        "colab": {}
      },
      "source": [
        "%matplotlib inline\n",
        "import matplotlib.pyplot as plt\n",
        "import csv\n",
        "import pandas\n",
        "import sklearn\n",
        "import pickle\n",
        "from wordcloud import WordCloud\n",
        "import pandas as pd\n",
        "import numpy as np\n",
        "import nltk\n",
        "from nltk.corpus import stopwords\n",
        "from sklearn.feature_extraction.text import CountVectorizer, TfidfTransformer\n",
        "from sklearn.tree import DecisionTreeClassifier \n",
        "#from sklearn.learning_curve import learning_curve\n",
        "import glob\n",
        "import errno"
      ],
      "execution_count": null,
      "outputs": []
    },
    {
      "cell_type": "code",
      "metadata": {
        "id": "1KsvmNnDygdA",
        "colab_type": "code",
        "colab": {}
      },
      "source": [
        "def ret(loc):\n",
        "    path =loc\n",
        "    files = glob.glob(path)\n",
        "    lst=[]\n",
        "    for fname in files:\n",
        "        try:\n",
        "            with open(fname,'r') as f:\n",
        "                lines = f.readlines()\n",
        "                str = '' \n",
        "                for i in range(2,len(lines)):\n",
        "                    str += lines[i].rstrip('\\n') \n",
        "                    lst.append(str)\n",
        "                f.close()\n",
        "        except IOError as exc:\n",
        "            if exc.errno != errno.EISDIR:\n",
        "                raise\n",
        "    return lst"
      ],
      "execution_count": null,
      "outputs": []
    },
    {
      "cell_type": "code",
      "metadata": {
        "id": "WgSoBnu8ynWt",
        "colab_type": "code",
        "colab": {
          "base_uri": "https://localhost:8080/",
          "height": 85
        },
        "outputId": "0bbff590-3535-4d94-b32c-322291872762"
      },
      "source": [
        "data1=ret(path+'lingspam_public/bare/bare/part1/3*.txt')\n",
        "#ham=ret('/Users/abc/Desktop/machine learning/Models vectors/spam filter/Spam Dataset/Ham emails/*.txt')\n",
        "print(len(data1))\n",
        "df1 = pd.DataFrame({'mail':data1})\n",
        "data2=ret(path+'lingspam_public/bare/bare/part1/5*.txt')\n",
        "print(len(data2))\n",
        "df2 = pd.DataFrame({'mail':data2})\n",
        "data3=ret(path+'lingspam_public/bare/bare/part1/spm*.txt')\n",
        "spam=pd.DataFrame({'mail':data3})\n",
        "print(len(spam))\n",
        "ham=pd.concat([df1,df2],axis=0,ignore_index=True)\n",
        "len(ham)\n",
        "spam['type']=1\n",
        "ham['type']=0\n",
        "datap1=pd.concat([spam,ham],axis=0,ignore_index=True)\n",
        "print(datap1.shape)\n"
      ],
      "execution_count": null,
      "outputs": [
        {
          "output_type": "stream",
          "text": [
            "143\n",
            "98\n",
            "48\n",
            "(289, 2)\n"
          ],
          "name": "stdout"
        }
      ]
    },
    {
      "cell_type": "code",
      "metadata": {
        "id": "KYjzkoey4WjG",
        "colab_type": "code",
        "colab": {
          "base_uri": "https://localhost:8080/",
          "height": 85
        },
        "outputId": "8ed2feef-b503-4a24-d9b1-a589bba0e729"
      },
      "source": [
        "data1=ret(path+'lingspam_public/bare/bare/part2/5*.txt')\n",
        "#ham=ret('/Users/abc/Desktop/machine learning/Models vectors/spam filter/Spam Dataset/Ham emails/*.txt')\n",
        "print(len(data1))\n",
        "df1 = pd.DataFrame({'mail':data1})\n",
        "data2=ret(path+'lingspam_public/bare/bare/part2/6*.txt')\n",
        "print(len(data2))\n",
        "df2 = pd.DataFrame({'mail':data2})\n",
        "data3=ret(path+'lingspam_public/bare/bare/part2/spm*.txt')\n",
        "spam=pd.DataFrame({'mail':data3})\n",
        "print(len(spam))\n",
        "ham=pd.concat([df1,df2],axis=0,ignore_index=True)\n",
        "len(ham)\n",
        "spam['type']=1\n",
        "ham['type']=0\n",
        "datap2=pd.concat([spam,ham],axis=0,ignore_index=True)\n",
        "print(datap2.shape)"
      ],
      "execution_count": null,
      "outputs": [
        {
          "output_type": "stream",
          "text": [
            "194\n",
            "47\n",
            "48\n",
            "(289, 2)\n"
          ],
          "name": "stdout"
        }
      ]
    },
    {
      "cell_type": "code",
      "metadata": {
        "id": "soefMnJ55V-6",
        "colab_type": "code",
        "colab": {
          "base_uri": "https://localhost:8080/",
          "height": 68
        },
        "outputId": "d6c85bb1-e708-41e0-f044-2aaa45537558"
      },
      "source": [
        "data1=ret(path+'lingspam_public/bare/bare/part3/6*.txt')\n",
        "#ham=ret('/Users/abc/Desktop/machine learning/Models vectors/spam filter/Spam Dataset/Ham emails/*.txt')\n",
        "print(len(data1))\n",
        "df1 = pd.DataFrame({'mail':data1})\n",
        "\n",
        "data3=ret(path+'lingspam_public/bare/bare/part3/spm*.txt')\n",
        "spam=pd.DataFrame({'mail':data3})\n",
        "print(len(spam))\n",
        "#ham=pd.concat([df1,df2],axis=0,ignore_index=True)\n",
        "len(ham)\n",
        "spam['type']=1\n",
        "ham['type']=0\n",
        "datap3=pd.concat([spam,df1],axis=0,ignore_index=True)\n",
        "print(datap3.shape)"
      ],
      "execution_count": null,
      "outputs": [
        {
          "output_type": "stream",
          "text": [
            "241\n",
            "48\n",
            "(289, 2)\n"
          ],
          "name": "stdout"
        }
      ]
    },
    {
      "cell_type": "code",
      "metadata": {
        "id": "Q51p2Nlh51Bu",
        "colab_type": "code",
        "colab": {
          "base_uri": "https://localhost:8080/",
          "height": 85
        },
        "outputId": "59690cb4-d37b-4666-8b7c-a358f52416f2"
      },
      "source": [
        "data1=ret(path+'lingspam_public/bare/bare/part4/6*.txt')\n",
        "#ham=ret('/Users/abc/Desktop/machine learning/Models vectors/spam filter/Spam Dataset/Ham emails/*.txt')\n",
        "print(len(data1))\n",
        "df1 = pd.DataFrame({'mail':data1})\n",
        "data2=ret(path+'lingspam_public/bare/bare/part4/8*.txt')\n",
        "print(len(data2))\n",
        "df2 = pd.DataFrame({'mail':data2})\n",
        "data3=ret(path+'lingspam_public/bare/bare/part4/spm*.txt')\n",
        "spam=pd.DataFrame({'mail':data3})\n",
        "print(len(spam))\n",
        "ham=pd.concat([df1,df2],axis=0,ignore_index=True)\n",
        "len(ham)\n",
        "spam['type']=1\n",
        "ham['type']=0\n",
        "datap4=pd.concat([spam,ham],axis=0,ignore_index=True)\n",
        "print(datap4.shape)"
      ],
      "execution_count": null,
      "outputs": [
        {
          "output_type": "stream",
          "text": [
            "209\n",
            "32\n",
            "48\n",
            "(289, 2)\n"
          ],
          "name": "stdout"
        }
      ]
    },
    {
      "cell_type": "code",
      "metadata": {
        "id": "unaJ9K6r6A97",
        "colab_type": "code",
        "colab": {
          "base_uri": "https://localhost:8080/",
          "height": 85
        },
        "outputId": "59c743fa-4b7a-4ac8-838a-67e89624d419"
      },
      "source": [
        "data1=ret(path+'lingspam_public/bare/bare/part5/8*.txt')\n",
        "#ham=ret('/Users/abc/Desktop/machine learning/Models vectors/spam filter/Spam Dataset/Ham emails/*.txt')\n",
        "print(len(data1))\n",
        "df1 = pd.DataFrame({'mail':data1})\n",
        "data2=ret(path+'lingspam_public/bare/bare/part5/9*.txt')\n",
        "print(len(data2))\n",
        "df2 = pd.DataFrame({'mail':data2})\n",
        "data3=ret(path+'lingspam_public/bare/bare/part5/spm*.txt')\n",
        "spam=pd.DataFrame({'mail':data3})\n",
        "print(len(spam))\n",
        "ham=pd.concat([df1,df2],axis=0,ignore_index=True)\n",
        "len(ham)\n",
        "spam['type']=1\n",
        "ham['type']=0\n",
        "datap5=pd.concat([spam,ham],axis=0,ignore_index=True)\n",
        "print(datap5.shape)"
      ],
      "execution_count": null,
      "outputs": [
        {
          "output_type": "stream",
          "text": [
            "59\n",
            "183\n",
            "48\n",
            "(290, 2)\n"
          ],
          "name": "stdout"
        }
      ]
    },
    {
      "cell_type": "code",
      "metadata": {
        "id": "3krvhoUX6Tv7",
        "colab_type": "code",
        "colab": {
          "base_uri": "https://localhost:8080/",
          "height": 34
        },
        "outputId": "9939fac0-0bdd-4538-9ff3-613bc2d34bdb"
      },
      "source": [
        "data=pd.concat([datap1,datap2,datap3,datap4,datap5],axis=0,ignore_index=True)\n",
        "print(data.shape)"
      ],
      "execution_count": null,
      "outputs": [
        {
          "output_type": "stream",
          "text": [
            "(1446, 2)\n"
          ],
          "name": "stdout"
        }
      ]
    },
    {
      "cell_type": "code",
      "metadata": {
        "id": "5-jvL09Z6tW1",
        "colab_type": "code",
        "colab": {
          "base_uri": "https://localhost:8080/",
          "height": 204
        },
        "outputId": "efc03f7f-97fd-4ce9-8758-761a93e2acdc"
      },
      "source": [
        "df2.head()"
      ],
      "execution_count": null,
      "outputs": [
        {
          "output_type": "execute_result",
          "data": {
            "text/html": [
              "<div>\n",
              "<style scoped>\n",
              "    .dataframe tbody tr th:only-of-type {\n",
              "        vertical-align: middle;\n",
              "    }\n",
              "\n",
              "    .dataframe tbody tr th {\n",
              "        vertical-align: top;\n",
              "    }\n",
              "\n",
              "    .dataframe thead th {\n",
              "        text-align: right;\n",
              "    }\n",
              "</style>\n",
              "<table border=\"1\" class=\"dataframe\">\n",
              "  <thead>\n",
              "    <tr style=\"text-align: right;\">\n",
              "      <th></th>\n",
              "      <th>mail</th>\n",
              "    </tr>\n",
              "  </thead>\n",
              "  <tbody>\n",
              "    <tr>\n",
              "      <th>0</th>\n",
              "      <td>prepositions and particles in english : a disc...</td>\n",
              "    </tr>\n",
              "    <tr>\n",
              "      <th>1</th>\n",
              "      <td>john benjamins publishing would like to call y...</td>\n",
              "    </tr>\n",
              "    <tr>\n",
              "      <th>2</th>\n",
              "      <td>the publishing house of moscow state universit...</td>\n",
              "    </tr>\n",
              "    <tr>\n",
              "      <th>3</th>\n",
              "      <td>semantic analysis : a practical introduction c...</td>\n",
              "    </tr>\n",
              "    <tr>\n",
              "      <th>4</th>\n",
              "      <td>john lawler ( university of michigan ) and hel...</td>\n",
              "    </tr>\n",
              "  </tbody>\n",
              "</table>\n",
              "</div>"
            ],
            "text/plain": [
              "                                                mail\n",
              "0  prepositions and particles in english : a disc...\n",
              "1  john benjamins publishing would like to call y...\n",
              "2  the publishing house of moscow state universit...\n",
              "3  semantic analysis : a practical introduction c...\n",
              "4  john lawler ( university of michigan ) and hel..."
            ]
          },
          "metadata": {
            "tags": []
          },
          "execution_count": 12
        }
      ]
    },
    {
      "cell_type": "code",
      "metadata": {
        "id": "d5ZiyXVC0Ci-",
        "colab_type": "code",
        "colab": {
          "base_uri": "https://localhost:8080/",
          "height": 34
        },
        "outputId": "158314d3-4fff-485e-c99c-005357242f12"
      },
      "source": [
        "data=data.drop_duplicates(subset=['mail'])\n",
        "data.shape #25 duplicates mail"
      ],
      "execution_count": null,
      "outputs": [
        {
          "output_type": "execute_result",
          "data": {
            "text/plain": [
              "(1439, 2)"
            ]
          },
          "metadata": {
            "tags": []
          },
          "execution_count": 10
        }
      ]
    },
    {
      "cell_type": "code",
      "metadata": {
        "id": "_WNNlL3_0HI0",
        "colab_type": "code",
        "colab": {
          "base_uri": "https://localhost:8080/",
          "height": 88
        },
        "outputId": "67cec716-5d26-467e-c8a6-ef0881da4b0c"
      },
      "source": [
        "nltk.download('stopwords')\n",
        "stop = set(stopwords.words('english'))#english.txt file has stopwords\n",
        "print(stop)"
      ],
      "execution_count": null,
      "outputs": [
        {
          "output_type": "stream",
          "text": [
            "[nltk_data] Downloading package stopwords to /root/nltk_data...\n",
            "[nltk_data]   Unzipping corpora/stopwords.zip.\n",
            "{'each', 'hers', 'am', \"you'll\", \"you'd\", 'll', 'you', 'few', 'whom', 'or', 'd', 'their', 'once', 'weren', 'to', 'until', 'just', 'about', 'below', 'than', 'hasn', \"isn't\", 'will', \"doesn't\", 'o', 'has', 'with', 'didn', 'couldn', 'yourself', 'through', 'in', 'over', 'them', 'that', 'of', \"don't\", 'be', 'no', 'its', 'themselves', 'having', 'my', \"you've\", 'above', \"hadn't\", 'are', \"that'll\", 'some', 'shan', \"couldn't\", 'yours', \"she's\", 'been', 'against', 'then', 'other', \"should've\", 'doesn', 've', 'where', 'nor', 'because', 'haven', 're', 'ours', 'we', \"weren't\", 'out', 't', 'he', 'y', 'the', 'shouldn', 'before', 'those', 'mustn', 'there', 'should', 'at', 'himself', 'for', 'own', \"hasn't\", 's', 'an', 'i', 'now', \"wouldn't\", 'itself', 'does', 'from', 'wasn', 'both', 'our', \"needn't\", 'what', 'a', 'such', 'on', \"haven't\", 'as', 'isn', 'when', 'who', \"you're\", 'wouldn', 'down', 'but', 'so', \"shan't\", 'have', 'his', 'this', 'ain', \"it's\", 'she', 'doing', 'aren', \"didn't\", 'hadn', 'ma', 'again', 'any', 'after', 'not', 'while', 'between', 'won', 'had', 'if', 'same', 'herself', 'mightn', 'why', 'under', 'up', \"mustn't\", 'how', 'off', 'more', 'needn', 'most', 'did', 'is', \"wasn't\", 'and', 'which', 'all', 'here', 'only', 'very', 'these', 'theirs', 'do', 'can', 'they', 'don', 'being', \"mightn't\", 'too', 'yourselves', 'by', \"aren't\", 'further', 'him', 'ourselves', 'her', 'your', 'were', 'into', 'm', 'it', 'myself', \"shouldn't\", \"won't\", 'during', 'was', 'me'}\n"
          ],
          "name": "stdout"
        }
      ]
    },
    {
      "cell_type": "code",
      "metadata": {
        "id": "wk1Uq1us0OhJ",
        "colab_type": "code",
        "colab": {
          "base_uri": "https://localhost:8080/",
          "height": 54
        },
        "outputId": "eec208c6-9167-4c3b-c613-a59b84c026c5"
      },
      "source": [
        "lst = [\"wouldn't\",'won', 'nor', 'not', 'against',\"doesn't\",\"don't\"] #to remove these words from english.txt file\n",
        "for word in lst:\n",
        "    stop.remove(word)\n",
        "print(stop)"
      ],
      "execution_count": null,
      "outputs": [
        {
          "output_type": "stream",
          "text": [
            "{'each', 'hers', 'am', \"you'll\", \"you'd\", 'll', 'you', 'few', 'whom', 'or', 'd', 'their', 'once', 'weren', 'to', 'until', 'just', 'about', 'below', 'than', 'hasn', \"isn't\", 'will', 'o', 'has', 'with', 'didn', 'couldn', 'yourself', 'through', 'in', 'over', 'them', 'that', 'of', 'be', 'no', 'its', 'themselves', 'having', 'my', \"you've\", 'above', \"hadn't\", 'are', \"that'll\", 'some', 'shan', \"couldn't\", 'yours', \"she's\", 'been', 'then', 'other', \"should've\", 'doesn', 've', 'where', 'because', 'haven', 're', 'ours', 'we', \"weren't\", 'out', 't', 'he', 'y', 'the', 'shouldn', 'before', 'those', 'mustn', 'there', 'should', 'at', 'himself', 'for', 'own', \"hasn't\", 's', 'an', 'i', 'now', 'itself', 'does', 'from', 'wasn', 'both', 'our', \"needn't\", 'what', 'a', 'such', 'on', \"haven't\", 'as', 'isn', 'when', 'who', \"you're\", 'wouldn', 'down', 'but', 'so', \"shan't\", 'have', 'his', 'this', 'ain', \"it's\", 'she', 'doing', 'aren', \"didn't\", 'hadn', 'ma', 'again', 'any', 'after', 'while', 'between', 'had', 'if', 'same', 'herself', 'mightn', 'why', 'under', 'up', \"mustn't\", 'how', 'off', 'more', 'needn', 'most', 'did', 'is', \"wasn't\", 'and', 'which', 'all', 'here', 'only', 'very', 'these', 'theirs', 'do', 'can', 'they', 'don', 'being', \"mightn't\", 'too', 'yourselves', 'by', \"aren't\", 'further', 'him', 'ourselves', 'her', 'your', 'were', 'into', 'm', 'it', 'myself', \"shouldn't\", \"won't\", 'during', 'was', 'me'}\n"
          ],
          "name": "stdout"
        }
      ]
    },
    {
      "cell_type": "code",
      "metadata": {
        "id": "aADrRGx60TQc",
        "colab_type": "code",
        "colab": {
          "base_uri": "https://localhost:8080/",
          "height": 34
        },
        "outputId": "0e965a77-b859-4b1f-cdc1-d50b63f7438c"
      },
      "source": [
        "sno = nltk.stem.SnowballStemmer('english') #english stemmer\n",
        "sno.stem(\"caring\")"
      ],
      "execution_count": null,
      "outputs": [
        {
          "output_type": "execute_result",
          "data": {
            "text/plain": [
              "'care'"
            ]
          },
          "metadata": {
            "tags": []
          },
          "execution_count": 18
        }
      ]
    },
    {
      "cell_type": "code",
      "metadata": {
        "id": "UFdy0EgY0Z6o",
        "colab_type": "code",
        "colab": {}
      },
      "source": [
        "import re\n",
        "from nltk.corpus import stopwords\n",
        "import nltk \n",
        "#removal of html tags\n",
        "def cleanhtml(sent):\n",
        "    cleanr=re.compile('<.*?>')\n",
        "    cleantext=re.sub(cleanr,' ',sent)\n",
        "    return cleantext"
      ],
      "execution_count": null,
      "outputs": []
    },
    {
      "cell_type": "code",
      "metadata": {
        "id": "O_I_pMMk0dD6",
        "colab_type": "code",
        "colab": {}
      },
      "source": [
        "#removal of punctuation tags\n",
        "def cleanpunc(sent):\n",
        "    cleaned=re.sub(r'[?|@|!|^|%|\\'|\"|#|$|:|*|+|-|=|\\-|&|_]',r'',sent)\n",
        "    cleaned=re.sub(r'[.|,|)|(|\\|/]',r' ',cleaned)\n",
        "    return cleaned"
      ],
      "execution_count": null,
      "outputs": []
    },
    {
      "cell_type": "code",
      "metadata": {
        "id": "xd1-PcQJ0izd",
        "colab_type": "code",
        "colab": {}
      },
      "source": [
        "def preprocessing(series):\n",
        "    \n",
        "    i = 0\n",
        "    str1=\" \"\n",
        "    final_string = []    ## This list will contain cleaned sentences\n",
        "    list_of_sent = []    ## This is a list of lists used as input to the W2V model at a later stage\n",
        "    \n",
        "    ## Creating below lists for future use\n",
        "    all_positive_words=[] # store words from spam mail here\n",
        "    all_negative_words=[] # store words from ham mail here\n",
        "    \n",
        "\n",
        "    for sent in series.values:\n",
        "        filtered_sent=[]\n",
        "        sent=cleanhtml(sent)\n",
        "        sent=cleanpunc(sent)\n",
        "        \n",
        "        for clean_word in sent.split():\n",
        "            if((clean_word.isalpha()) and (len(clean_word)>2)):\n",
        "                if(clean_word.lower() not in stop):\n",
        "                    s=(sno.stem(clean_word.lower()))\n",
        "                    s=clean_word.lower()\n",
        "                    filtered_sent.append(s)\n",
        "                    if(data['type'].values)[i]==1:\n",
        "                        all_positive_words.append(s)\n",
        "                    if(data['type'].values)[i]==0:\n",
        "                        all_negative_words.append(s)\n",
        "                        \n",
        "        list_of_sent.append(filtered_sent)\n",
        "        str1=' '.join(filtered_sent)\n",
        "        final_string.append(str1)\n",
        "        i+=1\n",
        "    return final_string,list_of_sent\n"
      ],
      "execution_count": null,
      "outputs": []
    },
    {
      "cell_type": "code",
      "metadata": {
        "id": "2ARHJsT10nir",
        "colab_type": "code",
        "colab": {
          "base_uri": "https://localhost:8080/",
          "height": 221
        },
        "outputId": "49642c72-6dc1-40f0-bfb5-32550f603aaf"
      },
      "source": [
        "final_string,list_of_sent=preprocessing(data['mail'])\n",
        "print(data['mail'])"
      ],
      "execution_count": null,
      "outputs": [
        {
          "output_type": "stream",
          "text": [
            "0       dear nlpeople , i ' m sure you ' ll agree auto...\n",
            "1       * * * * * * * * * * * * * * * we have display ...\n",
            "2       attention ! warning ! adults only ! warning ! ...\n",
            "3       if you want the best hunting and camping vacat...\n",
            "4       57 million email addresses for only $ 99 you w...\n",
            "                              ...                        \n",
            "1441    call for papers special conference on johann l...\n",
            "1442    * * anthropological linguistics , volume 40 , ...\n",
            "1443    the first international conference on tai stud...\n",
            "1444    social and cognitive approaches to interperson...\n",
            "1445    the new psychology of language cognitive and f...\n",
            "Name: mail, Length: 1439, dtype: object\n"
          ],
          "name": "stdout"
        }
      ]
    },
    {
      "cell_type": "code",
      "metadata": {
        "id": "3U1F-0vE0_AC",
        "colab_type": "code",
        "colab": {
          "base_uri": "https://localhost:8080/",
          "height": 34
        },
        "outputId": "6bd80dc4-181a-44d4-8de2-16fd4bb78418"
      },
      "source": [
        "data['cleaned_mail_stem']=final_string\n",
        "print(data.shape)\n",
        "#data.head(10)\n",
        "data.dropna()\n",
        "data.dropna(axis='columns')\n",
        "data.shape\n",
        "data = data.fillna(method='ffill')"
      ],
      "execution_count": null,
      "outputs": [
        {
          "output_type": "stream",
          "text": [
            "(1439, 3)\n"
          ],
          "name": "stdout"
        }
      ]
    },
    {
      "cell_type": "code",
      "metadata": {
        "id": "laFDnKyY1Fab",
        "colab_type": "code",
        "colab": {
          "base_uri": "https://localhost:8080/",
          "height": 232
        },
        "outputId": "1666f387-8fa1-4553-d71d-f850c588a69b"
      },
      "source": [
        "from sklearn.feature_extraction.text import TfidfVectorizer\n",
        "from scipy.sparse import csr_matrix\n",
        "vectorizer = TfidfVectorizer()\n",
        "vectors = vectorizer.fit_transform(data['cleaned_mail_stem'])\n",
        "sp_arr = csr_matrix(vectors)\n",
        "sdf = pd.SparseDataFrame(sp_arr,default_fill_value=0)\n",
        "print(sdf.head())\n",
        "print(vectors.shape)\n",
        "vectors[0][0]"
      ],
      "execution_count": null,
      "outputs": [
        {
          "output_type": "error",
          "ename": "TypeError",
          "evalue": "ignored",
          "traceback": [
            "\u001b[0;31m---------------------------------------------------------------------------\u001b[0m",
            "\u001b[0;31mTypeError\u001b[0m                                 Traceback (most recent call last)",
            "\u001b[0;32m<ipython-input-22-5b161a1bbbe5>\u001b[0m in \u001b[0;36m<module>\u001b[0;34m()\u001b[0m\n\u001b[1;32m      4\u001b[0m \u001b[0mvectors\u001b[0m \u001b[0;34m=\u001b[0m \u001b[0mvectorizer\u001b[0m\u001b[0;34m.\u001b[0m\u001b[0mfit_transform\u001b[0m\u001b[0;34m(\u001b[0m\u001b[0mdata\u001b[0m\u001b[0;34m[\u001b[0m\u001b[0;34m'cleaned_mail_stem'\u001b[0m\u001b[0;34m]\u001b[0m\u001b[0;34m)\u001b[0m\u001b[0;34m\u001b[0m\u001b[0;34m\u001b[0m\u001b[0m\n\u001b[1;32m      5\u001b[0m \u001b[0msp_arr\u001b[0m \u001b[0;34m=\u001b[0m \u001b[0mcsr_matrix\u001b[0m\u001b[0;34m(\u001b[0m\u001b[0mvectors\u001b[0m\u001b[0;34m)\u001b[0m\u001b[0;34m\u001b[0m\u001b[0;34m\u001b[0m\u001b[0m\n\u001b[0;32m----> 6\u001b[0;31m \u001b[0msdf\u001b[0m \u001b[0;34m=\u001b[0m \u001b[0mpd\u001b[0m\u001b[0;34m.\u001b[0m\u001b[0mSparseDataFrame\u001b[0m\u001b[0;34m(\u001b[0m\u001b[0msp_arr\u001b[0m\u001b[0;34m,\u001b[0m\u001b[0mdefault_fill_value\u001b[0m\u001b[0;34m=\u001b[0m\u001b[0;36m0\u001b[0m\u001b[0;34m)\u001b[0m\u001b[0;34m\u001b[0m\u001b[0;34m\u001b[0m\u001b[0m\n\u001b[0m\u001b[1;32m      7\u001b[0m \u001b[0mprint\u001b[0m\u001b[0;34m(\u001b[0m\u001b[0msdf\u001b[0m\u001b[0;34m.\u001b[0m\u001b[0mhead\u001b[0m\u001b[0;34m(\u001b[0m\u001b[0;34m)\u001b[0m\u001b[0;34m)\u001b[0m\u001b[0;34m\u001b[0m\u001b[0;34m\u001b[0m\u001b[0m\n\u001b[1;32m      8\u001b[0m \u001b[0mprint\u001b[0m\u001b[0;34m(\u001b[0m\u001b[0mvectors\u001b[0m\u001b[0;34m.\u001b[0m\u001b[0mshape\u001b[0m\u001b[0;34m)\u001b[0m\u001b[0;34m\u001b[0m\u001b[0;34m\u001b[0m\u001b[0m\n",
            "\u001b[0;31mTypeError\u001b[0m: object() takes no parameters"
          ]
        }
      ]
    },
    {
      "cell_type": "code",
      "metadata": {
        "id": "fUotLQhzxLxa",
        "colab_type": "code",
        "colab": {}
      },
      "source": [
        "bow_vect=CountVectorizer()\n",
        "bow=bow_vect.fit_transform(data['cleaned_mail_stem'].values)\n",
        "sp_arr1 = csr_matrix(bow)\n",
        "sdfb = pd.SparseDataFrame(sp_arr1,default_fill_value=0)\n",
        "#print(sdfb.head())\n",
        "x=bow  \n",
        "y=data['type'].values\n"
      ],
      "execution_count": null,
      "outputs": []
    },
    {
      "cell_type": "code",
      "metadata": {
        "id": "OzPhpznJ1yV7",
        "colab_type": "code",
        "colab": {}
      },
      "source": [
        "from sklearn.preprocessing import StandardScaler\n",
        "from sklearn.model_selection import train_test_split\n",
        "from sklearn.model_selection import cross_val_score\n",
        "\n",
        "Xb_train, Xb_test, yb_train, yb_test = train_test_split(sdfb, data['type'], test_size=0.20, random_state=111)\n"
      ],
      "execution_count": null,
      "outputs": []
    },
    {
      "cell_type": "code",
      "metadata": {
        "id": "gFbKUUH711-w",
        "colab_type": "code",
        "colab": {}
      },
      "source": [
        "from sklearn.preprocessing import StandardScaler\n",
        "from sklearn.model_selection import train_test_split\n",
        "from sklearn.model_selection import cross_val_score\n",
        "\n",
        "X_train, X_test, y_train, y_test = train_test_split(sdf, data['type'], test_size=0.20, random_state=111)"
      ],
      "execution_count": null,
      "outputs": []
    },
    {
      "cell_type": "code",
      "metadata": {
        "id": "HVyw-W_i2Nv3",
        "colab_type": "code",
        "colab": {
          "base_uri": "https://localhost:8080/",
          "height": 3386
        },
        "outputId": "22c4e82f-0897-4ce4-b757-c8c96b4ef1e4"
      },
      "source": [
        "\n",
        "print (X_train)\n",
        "print (X_test.shape)\n",
        "print (y_train.shape)\n",
        "print (y_test.shape)\n",
        "\n",
        "\n",
        "\n",
        "X_train.shape"
      ],
      "execution_count": null,
      "outputs": [
        {
          "output_type": "stream",
          "text": [
            "         0      1      2      3      4      5      6      7        8      \\\n",
            "699   0.000000    0.0    0.0    0.0    0.0    0.0    0.0    0.0  0.00000   \n",
            "354   0.000000    0.0    0.0    0.0    0.0    0.0    0.0    0.0  0.00000   \n",
            "564   0.000000    0.0    0.0    0.0    0.0    0.0    0.0    0.0  0.00000   \n",
            "484   0.000000    0.0    0.0    0.0    0.0    0.0    0.0    0.0  0.00000   \n",
            "106   0.000000    0.0    0.0    0.0    0.0    0.0    0.0    0.0  0.00000   \n",
            "1081  0.000000    0.0    0.0    0.0    0.0    0.0    0.0    0.0  0.00000   \n",
            "1423  0.000000    0.0    0.0    0.0    0.0    0.0    0.0    0.0  0.00000   \n",
            "407   0.000000    0.0    0.0    0.0    0.0    0.0    0.0    0.0  0.00000   \n",
            "961   0.000000    0.0    0.0    0.0    0.0    0.0    0.0    0.0  0.00000   \n",
            "125   0.000000    0.0    0.0    0.0    0.0    0.0    0.0    0.0  0.00000   \n",
            "768   0.000000    0.0    0.0    0.0    0.0    0.0    0.0    0.0  0.00000   \n",
            "1280  0.000000    0.0    0.0    0.0    0.0    0.0    0.0    0.0  0.00000   \n",
            "633   0.000000    0.0    0.0    0.0    0.0    0.0    0.0    0.0  0.00000   \n",
            "883   0.000000    0.0    0.0    0.0    0.0    0.0    0.0    0.0  0.00000   \n",
            "425   0.000000    0.0    0.0    0.0    0.0    0.0    0.0    0.0  0.00000   \n",
            "490   0.000000    0.0    0.0    0.0    0.0    0.0    0.0    0.0  0.00000   \n",
            "246   0.000000    0.0    0.0    0.0    0.0    0.0    0.0    0.0  0.00000   \n",
            "126   0.000000    0.0    0.0    0.0    0.0    0.0    0.0    0.0  0.00000   \n",
            "314   0.000000    0.0    0.0    0.0    0.0    0.0    0.0    0.0  0.00000   \n",
            "119   0.000000    0.0    0.0    0.0    0.0    0.0    0.0    0.0  0.00000   \n",
            "987   0.000000    0.0    0.0    0.0    0.0    0.0    0.0    0.0  0.00000   \n",
            "385   0.000000    0.0    0.0    0.0    0.0    0.0    0.0    0.0  0.00000   \n",
            "1262  0.000000    0.0    0.0    0.0    0.0    0.0    0.0    0.0  0.00000   \n",
            "1405  0.000000    0.0    0.0    0.0    0.0    0.0    0.0    0.0  0.00000   \n",
            "556   0.000000    0.0    0.0    0.0    0.0    0.0    0.0    0.0  0.00000   \n",
            "383   0.000000    0.0    0.0    0.0    0.0    0.0    0.0    0.0  0.00000   \n",
            "87    0.000000    0.0    0.0    0.0    0.0    0.0    0.0    0.0  0.00000   \n",
            "694   0.000000    0.0    0.0    0.0    0.0    0.0    0.0    0.0  0.00000   \n",
            "638   0.000000    0.0    0.0    0.0    0.0    0.0    0.0    0.0  0.00000   \n",
            "154   0.000000    0.0    0.0    0.0    0.0    0.0    0.0    0.0  0.00000   \n",
            "...        ...    ...    ...    ...    ...    ...    ...    ...      ...   \n",
            "483   0.000000    0.0    0.0    0.0    0.0    0.0    0.0    0.0  0.00000   \n",
            "324   0.000000    0.0    0.0    0.0    0.0    0.0    0.0    0.0  0.00000   \n",
            "747   0.000000    0.0    0.0    0.0    0.0    0.0    0.0    0.0  0.00000   \n",
            "562   0.000000    0.0    0.0    0.0    0.0    0.0    0.0    0.0  0.00000   \n",
            "525   0.000000    0.0    0.0    0.0    0.0    0.0    0.0    0.0  0.00000   \n",
            "344   0.000000    0.0    0.0    0.0    0.0    0.0    0.0    0.0  0.00000   \n",
            "334   0.000000    0.0    0.0    0.0    0.0    0.0    0.0    0.0  0.00000   \n",
            "685   0.000000    0.0    0.0    0.0    0.0    0.0    0.0    0.0  0.00000   \n",
            "268   0.000000    0.0    0.0    0.0    0.0    0.0    0.0    0.0  0.00000   \n",
            "972   0.000000    0.0    0.0    0.0    0.0    0.0    0.0    0.0  0.36253   \n",
            "37    0.000000    0.0    0.0    0.0    0.0    0.0    0.0    0.0  0.00000   \n",
            "712   0.000000    0.0    0.0    0.0    0.0    0.0    0.0    0.0  0.00000   \n",
            "1045  0.000000    0.0    0.0    0.0    0.0    0.0    0.0    0.0  0.00000   \n",
            "418   0.000000    0.0    0.0    0.0    0.0    0.0    0.0    0.0  0.00000   \n",
            "1294  0.000000    0.0    0.0    0.0    0.0    0.0    0.0    0.0  0.00000   \n",
            "1308  0.000000    0.0    0.0    0.0    0.0    0.0    0.0    0.0  0.00000   \n",
            "728   0.000000    0.0    0.0    0.0    0.0    0.0    0.0    0.0  0.00000   \n",
            "1290  0.000000    0.0    0.0    0.0    0.0    0.0    0.0    0.0  0.00000   \n",
            "1292  0.000000    0.0    0.0    0.0    0.0    0.0    0.0    0.0  0.00000   \n",
            "1031  0.000000    0.0    0.0    0.0    0.0    0.0    0.0    0.0  0.00000   \n",
            "953   0.000000    0.0    0.0    0.0    0.0    0.0    0.0    0.0  0.00000   \n",
            "967   0.000000    0.0    0.0    0.0    0.0    0.0    0.0    0.0  0.00000   \n",
            "808   0.000000    0.0    0.0    0.0    0.0    0.0    0.0    0.0  0.00000   \n",
            "118   0.000000    0.0    0.0    0.0    0.0    0.0    0.0    0.0  0.00000   \n",
            "1346  0.000000    0.0    0.0    0.0    0.0    0.0    0.0    0.0  0.00000   \n",
            "681   0.000000    0.0    0.0    0.0    0.0    0.0    0.0    0.0  0.00000   \n",
            "1299  0.000000    0.0    0.0    0.0    0.0    0.0    0.0    0.0  0.00000   \n",
            "86    0.000000    0.0    0.0    0.0    0.0    0.0    0.0    0.0  0.00000   \n",
            "724   0.000000    0.0    0.0    0.0    0.0    0.0    0.0    0.0  0.00000   \n",
            "876   0.175292    0.0    0.0    0.0    0.0    0.0    0.0    0.0  0.00000   \n",
            "\n",
            "      9      ...    38133  38134     38135  38136  38137  38138  38139  38140  \\\n",
            "699     0.0  ...      0.0    0.0  0.000000    0.0    0.0    0.0    0.0    0.0   \n",
            "354     0.0  ...      0.0    0.0  0.000000    0.0    0.0    0.0    0.0    0.0   \n",
            "564     0.0  ...      0.0    0.0  0.000000    0.0    0.0    0.0    0.0    0.0   \n",
            "484     0.0  ...      0.0    0.0  0.000000    0.0    0.0    0.0    0.0    0.0   \n",
            "106     0.0  ...      0.0    0.0  0.000000    0.0    0.0    0.0    0.0    0.0   \n",
            "1081    0.0  ...      0.0    0.0  0.000000    0.0    0.0    0.0    0.0    0.0   \n",
            "1423    0.0  ...      0.0    0.0  0.000000    0.0    0.0    0.0    0.0    0.0   \n",
            "407     0.0  ...      0.0    0.0  0.000000    0.0    0.0    0.0    0.0    0.0   \n",
            "961     0.0  ...      0.0    0.0  0.000000    0.0    0.0    0.0    0.0    0.0   \n",
            "125     0.0  ...      0.0    0.0  0.000000    0.0    0.0    0.0    0.0    0.0   \n",
            "768     0.0  ...      0.0    0.0  0.000000    0.0    0.0    0.0    0.0    0.0   \n",
            "1280    0.0  ...      0.0    0.0  0.000000    0.0    0.0    0.0    0.0    0.0   \n",
            "633     0.0  ...      0.0    0.0  0.000000    0.0    0.0    0.0    0.0    0.0   \n",
            "883     0.0  ...      0.0    0.0  0.000000    0.0    0.0    0.0    0.0    0.0   \n",
            "425     0.0  ...      0.0    0.0  0.000000    0.0    0.0    0.0    0.0    0.0   \n",
            "490     0.0  ...      0.0    0.0  0.000000    0.0    0.0    0.0    0.0    0.0   \n",
            "246     0.0  ...      0.0    0.0  0.000000    0.0    0.0    0.0    0.0    0.0   \n",
            "126     0.0  ...      0.0    0.0  0.000000    0.0    0.0    0.0    0.0    0.0   \n",
            "314     0.0  ...      0.0    0.0  0.000000    0.0    0.0    0.0    0.0    0.0   \n",
            "119     0.0  ...      0.0    0.0  0.000000    0.0    0.0    0.0    0.0    0.0   \n",
            "987     0.0  ...      0.0    0.0  0.000000    0.0    0.0    0.0    0.0    0.0   \n",
            "385     0.0  ...      0.0    0.0  0.000000    0.0    0.0    0.0    0.0    0.0   \n",
            "1262    0.0  ...      0.0    0.0  0.000000    0.0    0.0    0.0    0.0    0.0   \n",
            "1405    0.0  ...      0.0    0.0  0.000000    0.0    0.0    0.0    0.0    0.0   \n",
            "556     0.0  ...      0.0    0.0  0.000000    0.0    0.0    0.0    0.0    0.0   \n",
            "383     0.0  ...      0.0    0.0  0.049317    0.0    0.0    0.0    0.0    0.0   \n",
            "87      0.0  ...      0.0    0.0  0.000000    0.0    0.0    0.0    0.0    0.0   \n",
            "694     0.0  ...      0.0    0.0  0.000000    0.0    0.0    0.0    0.0    0.0   \n",
            "638     0.0  ...      0.0    0.0  0.000000    0.0    0.0    0.0    0.0    0.0   \n",
            "154     0.0  ...      0.0    0.0  0.000000    0.0    0.0    0.0    0.0    0.0   \n",
            "...     ...  ...      ...    ...       ...    ...    ...    ...    ...    ...   \n",
            "483     0.0  ...      0.0    0.0  0.000000    0.0    0.0    0.0    0.0    0.0   \n",
            "324     0.0  ...      0.0    0.0  0.000000    0.0    0.0    0.0    0.0    0.0   \n",
            "747     0.0  ...      0.0    0.0  0.000000    0.0    0.0    0.0    0.0    0.0   \n",
            "562     0.0  ...      0.0    0.0  0.000000    0.0    0.0    0.0    0.0    0.0   \n",
            "525     0.0  ...      0.0    0.0  0.000000    0.0    0.0    0.0    0.0    0.0   \n",
            "344     0.0  ...      0.0    0.0  0.000000    0.0    0.0    0.0    0.0    0.0   \n",
            "334     0.0  ...      0.0    0.0  0.000000    0.0    0.0    0.0    0.0    0.0   \n",
            "685     0.0  ...      0.0    0.0  0.000000    0.0    0.0    0.0    0.0    0.0   \n",
            "268     0.0  ...      0.0    0.0  0.000000    0.0    0.0    0.0    0.0    0.0   \n",
            "972     0.0  ...      0.0    0.0  0.000000    0.0    0.0    0.0    0.0    0.0   \n",
            "37      0.0  ...      0.0    0.0  0.000000    0.0    0.0    0.0    0.0    0.0   \n",
            "712     0.0  ...      0.0    0.0  0.000000    0.0    0.0    0.0    0.0    0.0   \n",
            "1045    0.0  ...      0.0    0.0  0.000000    0.0    0.0    0.0    0.0    0.0   \n",
            "418     0.0  ...      0.0    0.0  0.000000    0.0    0.0    0.0    0.0    0.0   \n",
            "1294    0.0  ...      0.0    0.0  0.000000    0.0    0.0    0.0    0.0    0.0   \n",
            "1308    0.0  ...      0.0    0.0  0.000000    0.0    0.0    0.0    0.0    0.0   \n",
            "728     0.0  ...      0.0    0.0  0.000000    0.0    0.0    0.0    0.0    0.0   \n",
            "1290    0.0  ...      0.0    0.0  0.000000    0.0    0.0    0.0    0.0    0.0   \n",
            "1292    0.0  ...      0.0    0.0  0.000000    0.0    0.0    0.0    0.0    0.0   \n",
            "1031    0.0  ...      0.0    0.0  0.000000    0.0    0.0    0.0    0.0    0.0   \n",
            "953     0.0  ...      0.0    0.0  0.000000    0.0    0.0    0.0    0.0    0.0   \n",
            "967     0.0  ...      0.0    0.0  0.000000    0.0    0.0    0.0    0.0    0.0   \n",
            "808     0.0  ...      0.0    0.0  0.000000    0.0    0.0    0.0    0.0    0.0   \n",
            "118     0.0  ...      0.0    0.0  0.000000    0.0    0.0    0.0    0.0    0.0   \n",
            "1346    0.0  ...      0.0    0.0  0.000000    0.0    0.0    0.0    0.0    0.0   \n",
            "681     0.0  ...      0.0    0.0  0.000000    0.0    0.0    0.0    0.0    0.0   \n",
            "1299    0.0  ...      0.0    0.0  0.000000    0.0    0.0    0.0    0.0    0.0   \n",
            "86      0.0  ...      0.0    0.0  0.000000    0.0    0.0    0.0    0.0    0.0   \n",
            "724     0.0  ...      0.0    0.0  0.000000    0.0    0.0    0.0    0.0    0.0   \n",
            "876     0.0  ...      0.0    0.0  0.000000    0.0    0.0    0.0    0.0    0.0   \n",
            "\n",
            "      38141  38142  \n",
            "699     0.0    0.0  \n",
            "354     0.0    0.0  \n",
            "564     0.0    0.0  \n",
            "484     0.0    0.0  \n",
            "106     0.0    0.0  \n",
            "1081    0.0    0.0  \n",
            "1423    0.0    0.0  \n",
            "407     0.0    0.0  \n",
            "961     0.0    0.0  \n",
            "125     0.0    0.0  \n",
            "768     0.0    0.0  \n",
            "1280    0.0    0.0  \n",
            "633     0.0    0.0  \n",
            "883     0.0    0.0  \n",
            "425     0.0    0.0  \n",
            "490     0.0    0.0  \n",
            "246     0.0    0.0  \n",
            "126     0.0    0.0  \n",
            "314     0.0    0.0  \n",
            "119     0.0    0.0  \n",
            "987     0.0    0.0  \n",
            "385     0.0    0.0  \n",
            "1262    0.0    0.0  \n",
            "1405    0.0    0.0  \n",
            "556     0.0    0.0  \n",
            "383     0.0    0.0  \n",
            "87      0.0    0.0  \n",
            "694     0.0    0.0  \n",
            "638     0.0    0.0  \n",
            "154     0.0    0.0  \n",
            "...     ...    ...  \n",
            "483     0.0    0.0  \n",
            "324     0.0    0.0  \n",
            "747     0.0    0.0  \n",
            "562     0.0    0.0  \n",
            "525     0.0    0.0  \n",
            "344     0.0    0.0  \n",
            "334     0.0    0.0  \n",
            "685     0.0    0.0  \n",
            "268     0.0    0.0  \n",
            "972     0.0    0.0  \n",
            "37      0.0    0.0  \n",
            "712     0.0    0.0  \n",
            "1045    0.0    0.0  \n",
            "418     0.0    0.0  \n",
            "1294    0.0    0.0  \n",
            "1308    0.0    0.0  \n",
            "728     0.0    0.0  \n",
            "1290    0.0    0.0  \n",
            "1292    0.0    0.0  \n",
            "1031    0.0    0.0  \n",
            "953     0.0    0.0  \n",
            "967     0.0    0.0  \n",
            "808     0.0    0.0  \n",
            "118     0.0    0.0  \n",
            "1346    0.0    0.0  \n",
            "681     0.0    0.0  \n",
            "1299    0.0    0.0  \n",
            "86      0.0    0.0  \n",
            "724     0.0    0.0  \n",
            "876     0.0    0.0  \n",
            "\n",
            "[1151 rows x 38143 columns]\n",
            "(288, 38143)\n",
            "(1151,)\n",
            "(288,)\n"
          ],
          "name": "stdout"
        },
        {
          "output_type": "execute_result",
          "data": {
            "text/plain": [
              "(1151, 38143)"
            ]
          },
          "metadata": {
            "tags": []
          },
          "execution_count": 100
        }
      ]
    },
    {
      "cell_type": "code",
      "metadata": {
        "id": "EXEZOhKV4xl7",
        "colab_type": "code",
        "colab": {}
      },
      "source": [
        "from sklearn.linear_model import LogisticRegression\n",
        "from sklearn.svm import SVC\n",
        "from sklearn.naive_bayes import MultinomialNB\n",
        "from sklearn.tree import DecisionTreeClassifier\n",
        "from sklearn.neighbors import KNeighborsClassifier\n",
        "from sklearn.ensemble import RandomForestClassifier"
      ],
      "execution_count": null,
      "outputs": []
    },
    {
      "cell_type": "code",
      "metadata": {
        "id": "evke4drw43GI",
        "colab_type": "code",
        "colab": {}
      },
      "source": [
        "svc = SVC(kernel='linear', gamma=1.0)\n",
        "#knc = KNeighborsClassifier(n_neighbors=49)\n",
        "mnb = MultinomialNB(alpha=0.2)\n",
        "#dtc = DecisionTreeClassifier(min_samples_split=7, random_state=111)\n",
        "#lrc = LogisticRegression(solver='liblinear', penalty='l1')\n",
        "#rfc = RandomForestClassifier(n_estimators=31, random_state=111)"
      ],
      "execution_count": null,
      "outputs": []
    },
    {
      "cell_type": "code",
      "metadata": {
        "id": "fl-R48WH46q8",
        "colab_type": "code",
        "colab": {}
      },
      "source": [
        "clfs = {'SVC' : svc, 'NB':mnb}"
      ],
      "execution_count": null,
      "outputs": []
    },
    {
      "cell_type": "code",
      "metadata": {
        "id": "m6HKZtb3718B",
        "colab_type": "code",
        "colab": {}
      },
      "source": [
        "def train(clf, features, targets):    \n",
        "    clf.fit(features, targets)\n",
        "\n",
        "def predict(clf, features):\n",
        "    return (clf.predict(features))"
      ],
      "execution_count": null,
      "outputs": []
    },
    {
      "cell_type": "code",
      "metadata": {
        "id": "O5k4wuDBypPV",
        "colab_type": "code",
        "colab": {}
      },
      "source": [
        "from sklearn.metrics import accuracy_score #works\n",
        "pred_scoresbag_word_vectors = []\n",
        "predbag =dict()\n",
        "for k,v in clfs.items():\n",
        "    train(v, Xb_train, yb_train)\n",
        "    pred = predict(v, Xb_test)\n",
        "    predbag[k]=pred\n",
        "    pred_scoresbag_word_vectors.append((k, [accuracy_score(yb_test , pred)]))\n",
        "#predbag['SVC']\n"
      ],
      "execution_count": null,
      "outputs": []
    },
    {
      "cell_type": "code",
      "metadata": {
        "id": "i6Swao5q6vli",
        "colab_type": "code",
        "colab": {
          "base_uri": "https://localhost:8080/",
          "height": 434
        },
        "outputId": "2a97ecdf-467f-426b-9f05-a5d55b0e994b"
      },
      "source": [
        "from sklearn.metrics import accuracy_score #works\n",
        "pred_scores_word_vectors = []\n",
        "prednew =dict()\n",
        "for k,v in clfs.items():\n",
        "    train(v, X_train, y_train)\n",
        "    pred = predict(v, X_test)\n",
        "    print(pred)\n",
        "    prednew[k]=pred\n",
        "    pred_scores_word_vectors.append((k, [accuracy_score(y_test , pred)]))\n",
        "#prednew['SVC']\n"
      ],
      "execution_count": null,
      "outputs": [
        {
          "output_type": "stream",
          "text": [
            "[0. 0. 0. 0. 0. 0. 0. 0. 0. 0. 0. 0. 1. 0. 0. 0. 0. 0. 0. 0. 0. 1. 0. 0.\n",
            " 0. 0. 0. 1. 0. 0. 0. 1. 0. 0. 0. 1. 0. 0. 0. 0. 0. 1. 0. 1. 0. 0. 0. 1.\n",
            " 0. 0. 0. 0. 0. 0. 1. 0. 0. 0. 1. 1. 0. 0. 1. 0. 1. 1. 0. 0. 0. 0. 0. 0.\n",
            " 0. 0. 0. 0. 1. 0. 0. 0. 0. 0. 0. 0. 0. 0. 0. 0. 1. 0. 0. 0. 0. 0. 0. 0.\n",
            " 0. 0. 1. 0. 0. 0. 0. 0. 0. 0. 0. 0. 0. 0. 1. 0. 0. 0. 1. 0. 0. 0. 1. 0.\n",
            " 1. 0. 0. 0. 0. 0. 0. 0. 1. 0. 0. 0. 0. 0. 0. 0. 0. 0. 0. 0. 0. 0. 1. 1.\n",
            " 0. 0. 1. 1. 1. 1. 0. 0. 0. 0. 0. 0. 0. 1. 0. 1. 0. 0. 0. 0. 0. 1. 0. 0.\n",
            " 0. 0. 0. 1. 1. 0. 0. 0. 1. 0. 0. 0. 0. 0. 0. 0. 0. 0. 0. 1. 0. 0. 1. 0.\n",
            " 0. 1. 0. 0. 0. 0. 0. 0. 0. 0. 0. 0. 0. 0. 0. 0. 0. 0. 0. 0. 0. 0. 0. 0.\n",
            " 0. 0. 0. 0. 0. 0. 0. 0. 0. 0. 0. 0. 0. 0. 0. 0. 0. 0. 0. 1. 0. 0. 0. 0.\n",
            " 0. 0. 1. 0. 0. 1. 0. 0. 0. 0. 0. 0. 0. 0. 1. 1. 0. 0. 0. 0. 0. 0. 0. 0.\n",
            " 0. 1. 0. 0. 0. 1. 0. 0. 1. 0. 0. 1. 0. 0. 0. 0. 0. 1. 0. 0. 0. 0. 0. 1.]\n",
            "[0. 0. 0. 0. 0. 0. 0. 0. 0. 0. 0. 0. 1. 0. 0. 0. 0. 0. 0. 0. 0. 1. 0. 0.\n",
            " 0. 0. 0. 1. 0. 0. 0. 1. 0. 1. 0. 1. 0. 0. 0. 0. 1. 1. 0. 1. 0. 1. 0. 1.\n",
            " 0. 0. 0. 0. 0. 0. 1. 0. 0. 0. 1. 0. 0. 0. 1. 0. 0. 1. 0. 0. 0. 0. 0. 0.\n",
            " 0. 0. 0. 0. 1. 0. 0. 0. 0. 0. 0. 0. 0. 0. 0. 0. 1. 0. 0. 0. 0. 0. 0. 0.\n",
            " 0. 0. 1. 0. 0. 0. 0. 0. 0. 0. 0. 0. 0. 0. 1. 0. 0. 0. 1. 0. 0. 0. 1. 1.\n",
            " 0. 0. 0. 0. 0. 0. 1. 0. 0. 0. 0. 0. 0. 1. 0. 0. 0. 0. 0. 0. 0. 0. 1. 0.\n",
            " 0. 0. 1. 1. 1. 1. 0. 0. 0. 0. 0. 0. 0. 1. 0. 0. 0. 0. 0. 0. 0. 1. 0. 0.\n",
            " 0. 0. 0. 1. 1. 0. 0. 0. 1. 0. 0. 0. 0. 0. 0. 0. 0. 0. 0. 1. 0. 0. 1. 0.\n",
            " 0. 1. 0. 0. 0. 0. 0. 0. 0. 0. 0. 0. 0. 0. 0. 0. 0. 0. 1. 0. 0. 0. 0. 0.\n",
            " 1. 0. 0. 0. 0. 0. 0. 0. 0. 0. 0. 0. 0. 0. 0. 0. 0. 0. 0. 1. 0. 0. 0. 0.\n",
            " 0. 0. 1. 0. 0. 1. 0. 0. 0. 0. 0. 0. 0. 0. 1. 1. 0. 0. 0. 0. 0. 0. 0. 0.\n",
            " 0. 1. 0. 0. 0. 1. 0. 0. 1. 0. 0. 1. 0. 0. 0. 0. 0. 1. 0. 0. 0. 0. 0. 1.]\n"
          ],
          "name": "stdout"
        }
      ]
    },
    {
      "cell_type": "code",
      "metadata": {
        "id": "_oz16EjkzQ18",
        "colab_type": "code",
        "colab": {
          "base_uri": "https://localhost:8080/",
          "height": 124
        },
        "outputId": "075ff26a-7f16-46d3-c0b1-6057387a2981"
      },
      "source": [
        "predictionsbag = pd.DataFrame.from_items(pred_scoresbag_word_vectors,orient='index', columns=['Score'])\n",
        "\n",
        "\n",
        "print(predictionsbag)"
      ],
      "execution_count": null,
      "outputs": [
        {
          "output_type": "stream",
          "text": [
            "        Score\n",
            "SVC  0.708333\n",
            "NB   0.774306\n"
          ],
          "name": "stdout"
        },
        {
          "output_type": "stream",
          "text": [
            "/usr/local/lib/python3.6/dist-packages/ipykernel_launcher.py:1: FutureWarning: from_items is deprecated. Please use DataFrame.from_dict(dict(items), ...) instead. DataFrame.from_dict(OrderedDict(items)) may be used to preserve the key order.\n",
            "  \"\"\"Entry point for launching an IPython kernel.\n"
          ],
          "name": "stderr"
        }
      ]
    },
    {
      "cell_type": "code",
      "metadata": {
        "id": "fxz5SZDw1AD_",
        "colab_type": "code",
        "colab": {
          "base_uri": "https://localhost:8080/",
          "height": 121
        },
        "outputId": "a585370f-3782-4cd4-9a23-5ed38927cddb"
      },
      "source": [
        "from sklearn.metrics import confusion_matrix\n",
        "from sklearn.metrics import precision_recall_fscore_support\n",
        "for k,v in clfs.items():\n",
        "  print(confusion_matrix(y_test, prednew[k]))\n",
        "  print(precision_recall_fscore_support(y_test, prednew[k],average='macro')) #for Tf-Idf using svm and logistic_regression"
      ],
      "execution_count": null,
      "outputs": [
        {
          "output_type": "stream",
          "text": [
            "[[192   5]\n",
            " [ 48  43]]\n",
            "(0.8479166666666667, 0.723573380933787, 0.7487117857201653, None)\n",
            "[[193   4]\n",
            " [ 45  46]]\n",
            "(0.8654621848739497, 0.7425949684832933, 0.7699192956713132, None)\n"
          ],
          "name": "stdout"
        }
      ]
    },
    {
      "cell_type": "code",
      "metadata": {
        "id": "l_lldBQO6zSs",
        "colab_type": "code",
        "colab": {
          "base_uri": "https://localhost:8080/",
          "height": 124
        },
        "outputId": "f79d1c58-d0c3-48e4-9091-3b4d540d9af9"
      },
      "source": [
        "\n",
        "predictions = pd.DataFrame.from_items(pred_scores_word_vectors,orient='index', columns=['Score'])\n",
        "\n",
        "\n",
        "print(predictions)"
      ],
      "execution_count": null,
      "outputs": [
        {
          "output_type": "stream",
          "text": [
            "        Score\n",
            "SVC  0.815972\n",
            "NB   0.829861\n"
          ],
          "name": "stdout"
        },
        {
          "output_type": "stream",
          "text": [
            "/usr/local/lib/python3.6/dist-packages/ipykernel_launcher.py:2: FutureWarning: from_items is deprecated. Please use DataFrame.from_dict(dict(items), ...) instead. DataFrame.from_dict(OrderedDict(items)) may be used to preserve the key order.\n",
            "  \n"
          ],
          "name": "stderr"
        }
      ]
    },
    {
      "cell_type": "code",
      "metadata": {
        "id": "cALb3qiO3fcu",
        "colab_type": "code",
        "colab": {
          "base_uri": "https://localhost:8080/",
          "height": 121
        },
        "outputId": "65228a84-5bb5-4982-8086-1b80cd383b92"
      },
      "source": [
        "from sklearn.metrics import confusion_matrix\n",
        "from sklearn.metrics import precision_recall_fscore_support\n",
        "for k,v in clfs.items():\n",
        "  print(confusion_matrix(yb_test, predbag[k]))\n",
        "  print(precision_recall_fscore_support(yb_test, predbag[k],average='macro'))#for CountVectorizer in svm and logistic Regression\n",
        "  "
      ],
      "execution_count": null,
      "outputs": [
        {
          "output_type": "stream",
          "text": [
            "[[151  46]\n",
            " [ 38  53]]\n",
            "(0.6671476671476672, 0.6744575221732583, 0.6701390782656123, None)\n",
            "[[164  33]\n",
            " [ 32  59]]\n",
            "(0.739019520851819, 0.7404194789981593, 0.7397071705668878, None)\n"
          ],
          "name": "stdout"
        }
      ]
    },
    {
      "cell_type": "code",
      "metadata": {
        "id": "Jm0xJ9cpB4bz",
        "colab_type": "code",
        "colab": {}
      },
      "source": [
        "def find(p):\n",
        "    if p == 1:\n",
        "        print (\"E-mail is SPAM\")\n",
        "    else:\n",
        "        print (\"E-mail is NOT Spam\")"
      ],
      "execution_count": null,
      "outputs": []
    },
    {
      "cell_type": "code",
      "metadata": {
        "id": "RGSXfl0o2Jod",
        "colab_type": "code",
        "colab": {
          "base_uri": "https://localhost:8080/",
          "height": 34
        },
        "outputId": "3cc16c11-b081-425a-89ad-65b74d8570ba"
      },
      "source": [
        "text = [\"Free tones Hope you enjoyed your new content\"]\n",
        "integers = bow_vect.transform(text)\n",
        "sp_arr2 = csr_matrix(integers)\n",
        "sdf2 = pd.SparseDataFrame(sp_arr2,default_fill_value=0)\n",
        "p = svc.predict(sdf2)[0]\n",
        "find(p)"
      ],
      "execution_count": null,
      "outputs": [
        {
          "output_type": "stream",
          "text": [
            "E-mail is SPAM\n"
          ],
          "name": "stdout"
        }
      ]
    },
    {
      "cell_type": "code",
      "metadata": {
        "id": "EW_ICMLJB_CA",
        "colab_type": "code",
        "colab": {}
      },
      "source": [
        "text = [\"Free tones Hope you enjoyed your new content\"]\n",
        "integers = vectorizer.transform(text)\n",
        "sp_arr1 = csr_matrix(integers)\n",
        "sdf1 = pd.SparseDataFrame(sp_arr1,default_fill_value=0)\n"
      ],
      "execution_count": null,
      "outputs": []
    },
    {
      "cell_type": "code",
      "metadata": {
        "id": "hT5SoYc5CGzZ",
        "colab_type": "code",
        "colab": {
          "base_uri": "https://localhost:8080/",
          "height": 34
        },
        "outputId": "ffee0373-3b5e-4eee-93d4-3d207bbd0236"
      },
      "source": [
        "p = svc.predict(sdf1)[0]\n",
        "find(p)"
      ],
      "execution_count": null,
      "outputs": [
        {
          "output_type": "stream",
          "text": [
            "E-mail is SPAM\n"
          ],
          "name": "stdout"
        }
      ]
    },
    {
      "cell_type": "code",
      "metadata": {
        "id": "FDCkxzsY4uqj",
        "colab_type": "code",
        "colab": {
          "base_uri": "https://localhost:8080/",
          "height": 106
        },
        "outputId": "a88262eb-41e3-44f4-e6e8-87af00ad303c"
      },
      "source": [
        "cross_validation_svc=[]\n",
        "cross_validation_svc=cross_val_score(svc, Xb_train, yb_train, cv=3, n_jobs=-1)#cross-validation using 3-folds by count vectorizer method using svm\n",
        "print(np.mean(cross_validation_svc))\n",
        "cross_validation_svc=[]\n",
        "cross_validation_svc=cross_val_score(svc, Xb_train, yb_train, cv=5, n_jobs=-1)#cross-validation using 5-folds by count vectorizer method using svm\n",
        "print(np.mean(cross_validation_svc))"
      ],
      "execution_count": null,
      "outputs": [
        {
          "output_type": "stream",
          "text": [
            "0.7637109626665762\n"
          ],
          "name": "stdout"
        },
        {
          "output_type": "stream",
          "text": [
            "/usr/local/lib/python3.6/dist-packages/sklearn/externals/joblib/externals/loky/process_executor.py:706: UserWarning: A worker stopped while some jobs were given to the executor. This can be caused by a too short worker timeout or by a memory leak.\n",
            "  \"timeout or by a memory leak.\", UserWarning\n"
          ],
          "name": "stderr"
        },
        {
          "output_type": "stream",
          "text": [
            "0.7576284584980237\n"
          ],
          "name": "stdout"
        }
      ]
    },
    {
      "cell_type": "code",
      "metadata": {
        "id": "bkoSoKy5pppg",
        "colab_type": "code",
        "colab": {
          "base_uri": "https://localhost:8080/",
          "height": 176
        },
        "outputId": "9864b434-7762-49b7-f31c-5626fd8ffe96"
      },
      "source": [
        "cross_validation_svc3=[]\n",
        "cross_validation_svc3=cross_val_score(svc, X_train, y_train, cv=3, n_jobs=-1)\n",
        "print(cross_validation_svc3)\n",
        "acc3=np.mean(cross_validation_svc3)\n",
        "print(acc3)\n",
        "cross_validation_svc2=[]\n",
        "cross_validation_svc2=cross_val_score(svc, X_train, y_train, cv=5, n_jobs=-1)#The number of CPUs to use to do the computation.\n",
        "#None means 1 unless in a joblib.parallel_backend context. -1 means using all processors. \n",
        "print(cross_validation_svc2)\n",
        "acc1=np.mean(cross_validation_svc2)\n",
        "print(acc1)\n",
        "#cross-validation using 3-folds and 5-folds  by tf-idf using svm"
      ],
      "execution_count": null,
      "outputs": [
        {
          "output_type": "stream",
          "text": [
            "/usr/local/lib/python3.6/dist-packages/sklearn/externals/joblib/externals/loky/process_executor.py:706: UserWarning: A worker stopped while some jobs were given to the executor. This can be caused by a too short worker timeout or by a memory leak.\n",
            "  \"timeout or by a memory leak.\", UserWarning\n"
          ],
          "name": "stderr"
        },
        {
          "output_type": "stream",
          "text": [
            "[0.81298701 0.83289817 0.81984334]\n",
            "0.8219095091157754\n"
          ],
          "name": "stdout"
        },
        {
          "output_type": "stream",
          "text": [
            "/usr/local/lib/python3.6/dist-packages/sklearn/externals/joblib/externals/loky/process_executor.py:706: UserWarning: A worker stopped while some jobs were given to the executor. This can be caused by a too short worker timeout or by a memory leak.\n",
            "  \"timeout or by a memory leak.\", UserWarning\n"
          ],
          "name": "stderr"
        },
        {
          "output_type": "stream",
          "text": [
            "[0.81385281 0.84347826 0.82608696 0.82608696 0.80434783]\n",
            "0.8227705627705628\n"
          ],
          "name": "stdout"
        }
      ]
    },
    {
      "cell_type": "code",
      "metadata": {
        "id": "xHGY8PmmwTZw",
        "colab_type": "code",
        "colab": {
          "base_uri": "https://localhost:8080/",
          "height": 106
        },
        "outputId": "5fbd05e7-8ace-4784-8715-a489f00b80f4"
      },
      "source": [
        "cross_validation_lr1=[]\n",
        "cross_validation_lr1=cross_val_score(mnb,X_train, y_train, cv=3, n_jobs=-1)\n",
        "print(np.mean(cross_validation_lr1))\n",
        "cross_validation_lr2=[]\n",
        "cross_validation_lr2=cross_val_score(mnb, X_train, y_train, cv=5, n_jobs=-1)    \n",
        "print(np.mean(cross_validation_lr2))\n",
        "#cross-validation for naive-bayes using folds 3 and 5 for tf-idf"
      ],
      "execution_count": null,
      "outputs": [
        {
          "output_type": "stream",
          "text": [
            "/usr/local/lib/python3.6/dist-packages/sklearn/externals/joblib/externals/loky/process_executor.py:706: UserWarning: A worker stopped while some jobs were given to the executor. This can be caused by a too short worker timeout or by a memory leak.\n",
            "  \"timeout or by a memory leak.\", UserWarning\n"
          ],
          "name": "stderr"
        },
        {
          "output_type": "stream",
          "text": [
            "0.8236411108473772\n",
            "0.8262337662337662\n"
          ],
          "name": "stdout"
        }
      ]
    },
    {
      "cell_type": "code",
      "metadata": {
        "id": "HgVBdl7liqTi",
        "colab_type": "code",
        "colab": {
          "base_uri": "https://localhost:8080/",
          "height": 141
        },
        "outputId": "ced816bf-7628-4ce3-cc69-5e69cea214b7"
      },
      "source": [
        "cross_validation_lr1=[]\n",
        "cross_validation_lr1=cross_val_score(mnb, Xb_train, yb_train, cv=3, n_jobs=-1)\n",
        "print(np.mean(cross_validation_lr1))\n",
        "cross_validation_lr2=[]\n",
        "cross_validation_lr2=cross_val_score(mnb, Xb_train, yb_train, cv=5, n_jobs=-1)\n",
        "print(np.mean(cross_validation_lr2))\n",
        "#cross-validation for naive-bayes using folds 3 and 5 for CountVectorizer"
      ],
      "execution_count": null,
      "outputs": [
        {
          "output_type": "stream",
          "text": [
            "/usr/local/lib/python3.6/dist-packages/sklearn/externals/joblib/externals/loky/process_executor.py:706: UserWarning: A worker stopped while some jobs were given to the executor. This can be caused by a too short worker timeout or by a memory leak.\n",
            "  \"timeout or by a memory leak.\", UserWarning\n"
          ],
          "name": "stderr"
        },
        {
          "output_type": "stream",
          "text": [
            "0.7862353486374373\n"
          ],
          "name": "stdout"
        },
        {
          "output_type": "stream",
          "text": [
            "/usr/local/lib/python3.6/dist-packages/sklearn/externals/joblib/externals/loky/process_executor.py:706: UserWarning: A worker stopped while some jobs were given to the executor. This can be caused by a too short worker timeout or by a memory leak.\n",
            "  \"timeout or by a memory leak.\", UserWarning\n"
          ],
          "name": "stderr"
        },
        {
          "output_type": "stream",
          "text": [
            "0.7784490871447394\n"
          ],
          "name": "stdout"
        }
      ]
    },
    {
      "cell_type": "code",
      "metadata": {
        "id": "RAtF1ZWtkMMF",
        "colab_type": "code",
        "colab": {
          "base_uri": "https://localhost:8080/",
          "height": 469
        },
        "outputId": "43a63ab0-f7f8-448a-e942-5093e1f92c86"
      },
      "source": [
        "predictions.plot(kind='bar', ylim=(0.5,1.0), figsize=(9,6), align='center', colormap=\"Accent\")\n",
        "plt.xticks(np.arange(2), predictions.index)\n",
        "print(predictions)\n",
        "plt.ylabel('Accuracy Score')\n",
        "plt.title('Distribution by Classifier')\n",
        "plt.legend(bbox_to_anchor=(1.05, 1), loc=2, borderaxespad=0.) #Distribution by classifier for TF-IDF"
      ],
      "execution_count": null,
      "outputs": [
        {
          "output_type": "stream",
          "text": [
            "        Score\n",
            "SVC  0.815972\n",
            "NB   0.829861\n"
          ],
          "name": "stdout"
        },
        {
          "output_type": "execute_result",
          "data": {
            "text/plain": [
              "<matplotlib.legend.Legend at 0x7fc85ce1c438>"
            ]
          },
          "metadata": {
            "tags": []
          },
          "execution_count": 118
        },
        {
          "output_type": "display_data",
          "data": {
            "image/png": "[encoded data removed]",
            "text/plain": [
              "<Figure size 648x432 with 1 Axes>"
            ]
          },
          "metadata": {
            "tags": []
          }
        }
      ]
    },
    {
      "cell_type": "code",
      "metadata": {
        "id": "yo2Zm4IyoQ1i",
        "colab_type": "code",
        "colab": {
          "base_uri": "https://localhost:8080/",
          "height": 469
        },
        "outputId": "a16f4b68-af3d-4820-e073-b84412d76c88"
      },
      "source": [
        "predictionsbag.plot(kind='bar', ylim=(0.5,0.9), figsize=(9,6), align='center', colormap=\"Accent\")\n",
        "plt.xticks(np.arange(2), predictions.index)\n",
        "print(predictionsbag)\n",
        "plt.ylabel('Accuracy Score')\n",
        "plt.title('Distribution by Classifier')\n",
        "plt.legend(bbox_to_anchor=(1.05, 1), loc=2, borderaxespad=0.) #Distribution by classifier for CountVectorizer"
      ],
      "execution_count": null,
      "outputs": [
        {
          "output_type": "stream",
          "text": [
            "        Score\n",
            "SVC  0.708333\n",
            "NB   0.774306\n"
          ],
          "name": "stdout"
        },
        {
          "output_type": "execute_result",
          "data": {
            "text/plain": [
              "<matplotlib.legend.Legend at 0x7fc869da6ba8>"
            ]
          },
          "metadata": {
            "tags": []
          },
          "execution_count": 119
        },
        {
          "output_type": "display_data",
          "data": {
            "image/png": "[encoded data removed]",
            "text/plain": [
              "<Figure size 648x432 with 1 Axes>"
            ]
          },
          "metadata": {
            "tags": []
          }
        }
      ]
    }
  ]
}